{
 "cells": [
  {
   "cell_type": "markdown",
   "metadata": {},
   "source": [
    "5th Sep, 2024\n",
    "Basic Attendance System Using Python\n",
    "@Weekly Reflection - Identify ALC prob and provide a solution from week1 learning\n"
   ]
  },
  {
   "cell_type": "code",
   "execution_count": 12,
   "metadata": {},
   "outputs": [],
   "source": [
    "# Initialize an empty list to store attendance data\n",
    "attendance_list = []\n"
   ]
  },
  {
   "cell_type": "code",
   "execution_count": 13,
   "metadata": {},
   "outputs": [],
   "source": [
    "\n",
    "# Function to collect user input and store it\n",
    "def take_attendance():\n",
    "    while True:\n",
    "        # Gather input from user\n",
    "        name = input(\"Enter your name: \")\n",
    "        email = input(\"Enter your email: \")\n",
    "        course = input(\"Enter your course: \")\n",
    "\n",
    "        # Store data in a dictionary\n",
    "        attendee = {\n",
    "            'Name': name,\n",
    "            'Email': email,\n",
    "            'Course': course\n",
    "        }\n",
    "\n",
    "        # Append to the attendance list\n",
    "        attendance_list.append(attendee)\n",
    "\n",
    "        # Ask if they want to add another user\n",
    "        another = input(\"Add another attendee? (yes/no): \").lower()\n",
    "        if another != 'yes':\n",
    "            break\n"
   ]
  },
  {
   "cell_type": "code",
   "execution_count": 14,
   "metadata": {},
   "outputs": [],
   "source": [
    "\n",
    "# Function to display attendance\n",
    "def display_attendance():\n",
    "    print(\"\\nAttendance List:\")\n",
    "    for i, attendee in enumerate(attendance_list, 1):\n",
    "        print(f\"{i}. Name: {attendee['Name']}, Email: {attendee['Email']}, Course: {attendee['Course']}\")\n"
   ]
  },
  {
   "cell_type": "code",
   "execution_count": 15,
   "metadata": {},
   "outputs": [],
   "source": [
    "\n",
    "# Main function to run the attendance system\n",
    "def main():\n",
    "    take_attendance()\n",
    "    display_attendance()\n"
   ]
  },
  {
   "cell_type": "code",
   "execution_count": 16,
   "metadata": {},
   "outputs": [
    {
     "name": "stdout",
     "output_type": "stream",
     "text": [
      "\n",
      "Attendance List:\n",
      "1. Name: , Email: , Course: \n"
     ]
    }
   ],
   "source": [
    "\n",
    "# Runing the attendance system\n",
    "if __name__ == \"__main__\":\n",
    "    main()\n"
   ]
  }
 ],
 "metadata": {
  "kernelspec": {
   "display_name": "Python 3",
   "language": "python",
   "name": "python3"
  },
  "language_info": {
   "codemirror_mode": {
    "name": "ipython",
    "version": 3
   },
   "file_extension": ".py",
   "mimetype": "text/x-python",
   "name": "python",
   "nbconvert_exporter": "python",
   "pygments_lexer": "ipython3",
   "version": "3.10.0"
  }
 },
 "nbformat": 4,
 "nbformat_minor": 2
}
